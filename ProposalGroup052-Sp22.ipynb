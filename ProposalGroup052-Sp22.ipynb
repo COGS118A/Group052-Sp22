{
 "cells": [
  {
   "cell_type": "markdown",
   "metadata": {},
   "source": [
    "# COGS 118A- Project Proposal"
   ]
  },
  {
   "cell_type": "markdown",
   "metadata": {},
   "source": [
    "# Project Description\n",
    "\n",
    "You will design and execute a machine learning project. There are a few constraints on the nature of the allowed project. \n",
    "- The problem addressed will not be a \"toy problem\" or \"common training students problem\" like mtcars, iris, palmer penguins etc.\n",
    "- The dataset will have >1k observations and >5 variables. I'd prefer more like >10k observations and >10 variables. A general rule is that if you have >100x more observations than variables, your solution will likely generalize a lot better. The goal of training a supervised machine learning model is to learn the underlying pattern in a dataset in order to generalize well to unseen data, so choosing a large dataset is very important.\n",
    "\n",
    "- The project will include a model selection and/or feature selection component where you will be looking for the best setup to maximize the performance of your ML system.\n",
    "- You will evaluate the performance of your ML system using more than one appropriate metric\n",
    "- You will be writing a report describing and discussing these accomplishments\n",
    "\n",
    "\n",
    "Feel free to delete this description section when you hand in your proposal."
   ]
  },
  {
   "cell_type": "markdown",
   "metadata": {},
   "source": [
    "### Peer Review\n",
    "\n",
    "You will all have an opportunity to look at the Project Proposals of other groups to fuel your creativity and get more ideas for how you can improve your own projects. \n",
    "\n",
    "Both the project proposal and project checkpoint will have peer review."
   ]
  },
  {
   "cell_type": "markdown",
   "metadata": {},
   "source": [
    "# Names\n",
    "\n",
    "Hopefully your team is at least this good. Obviously you should replace these with your names.\n",
    "\n",
    "- Maxwell Jung\n",
    "- Carter Nielsen\n",
    "- Yescenia Alvarez"
   ]
  },
  {
   "cell_type": "markdown",
   "metadata": {},
   "source": [
    "# Abstract \n",
    "Our goal for this project is to examine historical stock and homicide reports data from 2000 to 2014 to see if we can create a predictor from stock data to homicides. the stock data is stock data from the current 30 members of the DOW Jones members, dating back to when they joined or 2000. The Homicide data goes from 1980 to 2014, so we will use the overlap from 2000 to 2014. With this data we will choose and fit a regression model and try ommitting cerain years or months for testing. Success will be determined by examining the accuracy of our predictor on the test data."
   ]
  },
  {
   "cell_type": "markdown",
   "metadata": {},
   "source": [
    "# Background\n",
    "\n",
    "The background of this area of investigation is deep, as there are many papers and articles about the possible and very likely link between economy and crime, especially in terms of relating poverty and increasing crime rates <a name=\"lorenz\"></a>[<sup>[1]</sup>](#lorenznote). Specifically looking at historical data, income and unemployment rate have been found to have a very large impact on crime rate increasing or decreasing, and in this project we hope to see if different measures can be found to have a simialr correlation at the very least."
   ]
  },
  {
   "cell_type": "markdown",
   "metadata": {},
   "source": [
    "# Problem Statement\n",
    "\n",
    "The problem being solved here is to potentially find and be able to predict crime with analysis of how the economy is performing. This approach could then be expanded to address more specific communities and predict when crime rate might increase based on the economic performance of local businesses etc."
   ]
  },
  {
   "cell_type": "markdown",
   "metadata": {},
   "source": [
    "# Data\n",
    "Dataset 1: [Dow Stock Data 2000-2020](https://www.kaggle.com/datasets/deeplytics/dow-stock-data)\n",
    "- 20 years of top 30 companies stock prices, containing date, price, high, low and other information.\n",
    "- Each observation contains the daily stock info about a company.\n",
    "- The most important variables for us will be the date and price, as they will be used as the independent variable for our predictor. they will be represented as a date string and as a float value for the price.\n",
    "- The only thing of note for cleaning is that we will be only using the data from 2000-2014 so that it will match up with our second dataset.\n",
    "\n",
    "Dataset 2: [Homicide reports](https://www.kaggle.com/datasets/murderaccountability/homicide-reports)\n",
    "- contains 34 years of homicide reports from cities in the U.S. it contains data about city, agency reported to, type of crime, information about the date, victim, perpetrator among other things.\n",
    "- Each data point is one reported crime.\n",
    "- The critical variable for this dataset will be the date.\n",
    "- For cleaning, we will have to transform the data to be in a time series, so that we can count the amount of crime per day or month as opposed to having a list of each crime."
   ]
  },
  {
   "cell_type": "markdown",
   "metadata": {},
   "source": [
    "# Proposed Solution\n",
    "\n",
    "For this project, we propose some sort of regression model to predict crime rate from the stock prices, we are currently unsure of which model we will use but we will most likely attempt a few different methods to see which performs the best."
   ]
  },
  {
   "cell_type": "markdown",
   "metadata": {},
   "source": [
    "# Evaluation Metrics\n",
    "We plan on blocking the data we have from the years 2000-2014 into training and testing blocks, and the metric of evaluation will be the model's performance on the testing data."
   ]
  },
  {
   "cell_type": "markdown",
   "metadata": {},
   "source": [
    "# Ethics & Privacy"
   ]
  },
  {
   "cell_type": "markdown",
   "metadata": {},
   "source": [
    "The ethics and privacy of this project will be covered throuroughly as all potentially personal information especially from the homicide data is anonymized sufficiently, and not made public."
   ]
  },
  {
   "cell_type": "markdown",
   "metadata": {},
   "source": [
    "# Team Expectations "
   ]
  },
  {
   "cell_type": "markdown",
   "metadata": {},
   "source": [
    "Put things here that cement how you will interact/communicate as a team, how you will handle conflict and difficulty, how you will handle making decisions and setting goals/schedule, how much work you expect from each other, how you will handle deadlines, etc...\n",
    "* *Do our best to be respectful to each other, but also give helpful feedback so we can create the best version of our project*\n",
    "* *Put in equal work as best as we can*"
   ]
  },
  {
   "cell_type": "markdown",
   "metadata": {},
   "source": [
    "# Project Timeline Proposal"
   ]
  },
  {
   "cell_type": "markdown",
   "metadata": {},
   "source": [
    "In general we will attempt to meet a few days to a week before each deadline to divy up responsibilites and be on the same page for each checkpoint."
   ]
  },
  {
   "cell_type": "markdown",
   "metadata": {},
   "source": [
    "# Footnotes\n",
    "<a name=\"lorenznote\">^</a>1.Article denoting previous investigations done into crime and economy [Dynamic linkages between poverty, inequality, crime](https://journalofeconomicstructures.springeropen.com/articles/10.1186/s40008-020-00220-6).\n"
   ]
  }
 ],
 "metadata": {
  "kernelspec": {
   "display_name": "Python 3",
   "language": "python",
   "name": "python3"
  },
  "language_info": {
   "codemirror_mode": {
    "name": "ipython",
    "version": 3
   },
   "file_extension": ".py",
   "mimetype": "text/x-python",
   "name": "python",
   "nbconvert_exporter": "python",
   "pygments_lexer": "ipython3",
   "version": "3.8.8"
  }
 },
 "nbformat": 4,
 "nbformat_minor": 2
}
